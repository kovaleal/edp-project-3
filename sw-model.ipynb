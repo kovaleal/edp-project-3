{
 "cells": [
  {
   "cell_type": "code",
   "execution_count": null,
   "metadata": {},
   "outputs": [],
   "source": [
    "import matplotlib.pyplot as plt\n",
    "import numpy as np\n",
    "import pandas as pd\n",
    "import seaborn as sns\n",
    "\n",
    "CONCISE = False\n",
    "TEST_RATIO = 0.10\n",
    "\n",
    "# Load the dataset\n",
    "filename = 'troop_movements.csv'\n",
    "data = pd.read_csv(filename)\n",
    "df = pd.DataFrame(data)\n",
    "\n",
    "# Clean data\n",
    "# df = df[df['unit_type'] != 'unknown']\n",
    "\n",
    "if CONCISE:\n",
    "    display(df.head())\n",
    "else:\n",
    "    display(df)"
   ]
  },
  {
   "cell_type": "code",
   "execution_count": null,
   "metadata": {},
   "outputs": [],
   "source": [
    "count_by_alignment = df.groupby('empire_or_resistance').size().reset_index(name='count')\n",
    "display(count_by_alignment)"
   ]
  },
  {
   "cell_type": "code",
   "execution_count": null,
   "metadata": {},
   "outputs": [],
   "source": [
    "count_by_homeworld = df.groupby('homeworld').size().reset_index(name='count')\n",
    "if CONCISE:\n",
    "    display(count_by_homeworld.head())\n",
    "else:\n",
    "    display(count_by_homeworld)\n",
    "print('Total Count: %d' % np.sum(count_by_homeworld['count']))"
   ]
  },
  {
   "cell_type": "code",
   "execution_count": null,
   "metadata": {},
   "outputs": [],
   "source": [
    "count_by_unit_type = df.groupby('unit_type').size().reset_index(name='count')\n",
    "if CONCISE:\n",
    "    display(count_by_unit_type.head())\n",
    "else:\n",
    "    display(count_by_unit_type)\n",
    "print('Total Count: %d' % np.sum(count_by_unit_type['count']))"
   ]
  },
  {
   "cell_type": "code",
   "execution_count": null,
   "metadata": {},
   "outputs": [],
   "source": [
    "df['is_resistance'] = (df['empire_or_resistance'] == 'resistance')\n",
    "if CONCISE:\n",
    "    display(df.head())\n",
    "else:\n",
    "    display(df)"
   ]
  },
  {
   "cell_type": "code",
   "execution_count": null,
   "metadata": {},
   "outputs": [],
   "source": [
    "sns.set_theme(style=\"whitegrid\")\n",
    "sns_palette = sns.color_palette('muted')\n",
    "\n",
    "ax =  sns.barplot(x=\"empire_or_resistance\", y=\"count\", palette=[sns_palette[1], sns_palette[0]],\n",
    "                  hue=\"empire_or_resistance\", data=count_by_alignment)\n",
    "plt.title(\"Character Count by Empire or Resistance\", y=1.05)\n",
    "plt.xlabel('Empire or Resistance')\n",
    "plt.ylabel('Count')\n",
    "for p in ax.patches:\n",
    "    ax.annotate(f'{int(p.get_height()):,}',\n",
    "                (p.get_x() + p.get_width() / 2., p.get_height()),\n",
    "                ha='center', va='center', fontsize=10, color='black',\n",
    "                rotation=45, xytext=(0, 10), textcoords='offset points')\n",
    "plt.show()"
   ]
  },
  {
   "cell_type": "code",
   "execution_count": null,
   "metadata": {},
   "outputs": [],
   "source": [
    "from sklearn.model_selection import train_test_split\n",
    "from sklearn.tree import DecisionTreeClassifier\n",
    "from sklearn.metrics import accuracy_score\n",
    "\n",
    "# Define features (X) and target variable (y)\n",
    "X = df[['unit_type', 'homeworld']]\n",
    "X_enc = pd.get_dummies(X)\n",
    "y = df['is_resistance']\n",
    "\n",
    "X_train, X_test, y_train, y_test = train_test_split(X_enc, y, test_size=TEST_RATIO, random_state=1977)\n",
    "\n",
    "# Train the classifier\n",
    "clf = DecisionTreeClassifier()\n",
    "clf = clf.fit(X_train, y_train)\n",
    "\n",
    "# Predict alignment for test set\n",
    "y_pred = clf.predict(X_test)\n",
    "\n",
    "# Calculate model accuracy\n",
    "accuracy = accuracy_score(y_test, y_pred)\n",
    "print(\"Accuracy:\", accuracy)"
   ]
  },
  {
   "cell_type": "code",
   "execution_count": null,
   "metadata": {},
   "outputs": [],
   "source": [
    "# Convert categorical features to numeric\n",
    "X_enc = pd.get_dummies(X)\n",
    "\n",
    "# Create a bar plot that shows feature importance\n",
    "\n",
    "importances = clf.feature_importances_\n",
    "\n",
    "feature_importances = pd.DataFrame({\n",
    "    'Feature' : X_enc.columns,\n",
    "    'Importance' : importances\n",
    "}).sort_values(by='Importance', ascending=False)\n",
    "\n",
    "plt.figure(figsize=(10, 6))\n",
    "sns.barplot(x='Importance', y='Feature', data=feature_importances, hue='Feature', palette='viridis')\n",
    "plt.title('Feature Importance')\n",
    "plt.xlabel('Importance')\n",
    "plt.ylabel('Feature')\n",
    "plt.tight_layout(pad=-10.0)\n",
    "plt.show()\n",
    "\n",
    "# Save the model as trained_model.pkl\n",
    "import pickle\n",
    "model_filename = 'trained_model.pkl'\n",
    "with open(model_filename, 'wb') as model_file:\n",
    "    pickle.dump(clf, model_file)\n",
    "\n",
    "# Most Influential Features\n",
    "print(\"Most Influential Feature:\", feature_importances['Feature'].iloc[0])"
   ]
  }
 ],
 "metadata": {
  "kernelspec": {
   "display_name": "Python 3",
   "language": "python",
   "name": "python3"
  },
  "language_info": {
   "codemirror_mode": {
    "name": "ipython",
    "version": 3
   },
   "file_extension": ".py",
   "mimetype": "text/x-python",
   "name": "python",
   "nbconvert_exporter": "python",
   "pygments_lexer": "ipython3",
   "version": "3.12.3"
  }
 },
 "nbformat": 4,
 "nbformat_minor": 2
}
