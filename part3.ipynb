{
 "cells": [
  {
   "cell_type": "code",
   "execution_count": null,
   "id": "67a14310",
   "metadata": {},
   "outputs": [],
   "source": [
    "import numpy as np\n",
    "import pandas as pd\n",
    "import pickle\n",
    "\n",
    "CONCISE = False\n",
    "\n",
    "# Load the dataset\n",
    "filename = \"troop_movements_1m.csv\"\n",
    "data = pd.read_csv(filename)\n",
    "df = pd.DataFrame(data)\n",
    "\n",
    "# Replace 'invalid_unit' with unknown\n",
    "df['unit_type'] = df['unit_type'].replace('invalid_unit', 'unknown')\n",
    "\n",
    "# Fill missing location_x and location_y with ffill\n",
    "df['location_x'] = df['location_x'].ffill()\n",
    "df['location_y'] = df['location_y'].ffill()\n",
    "\n",
    "# Save the clean data into Parquet format\n",
    "df.to_parquet(\"troop_movements_1m_cleaned.parquet\", index=False)\n",
    "\n",
    "if CONCISE:\n",
    "    display(df.head())\n",
    "else:\n",
    "    display(df)"
   ]
  },
  {
   "cell_type": "code",
   "execution_count": null,
   "id": "8aedfae6",
   "metadata": {},
   "outputs": [],
   "source": [
    "# Load pickled model\n",
    "with open(\"trained_model.pkl\", \"rb\") as file:\n",
    "    model = pickle.load(file)\n",
    "    \n",
    "    # Load data from Parquet\n",
    "    df = pd.read_parquet(\"troop_movements_1m_cleaned.parquet\")\n",
    "    \n",
    "    X = df[['unit_type', 'homeworld']]\n",
    "    X_enc = pd.get_dummies(X)\n",
    "    \n",
    "    # Run the data through the model and add the predicted values to the data frame\n",
    "    df['predictions'] = model.predict(X_enc)\n",
    "\n",
    "if CONCISE:\n",
    "    display(df.head())\n",
    "else:\n",
    "    display(df)"
   ]
  }
 ],
 "metadata": {
  "kernelspec": {
   "display_name": "Python 3",
   "language": "python",
   "name": "python3"
  },
  "language_info": {
   "codemirror_mode": {
    "name": "ipython",
    "version": 3
   },
   "file_extension": ".py",
   "mimetype": "text/x-python",
   "name": "python",
   "nbconvert_exporter": "python",
   "pygments_lexer": "ipython3",
   "version": "3.12.3"
  }
 },
 "nbformat": 4,
 "nbformat_minor": 5
}
